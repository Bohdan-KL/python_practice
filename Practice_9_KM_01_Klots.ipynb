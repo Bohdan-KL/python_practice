{
  "nbformat": 4,
  "nbformat_minor": 0,
  "metadata": {
    "colab": {
      "name": "Practice_7_KM-01_.ipynb",
      "provenance": [],
      "collapsed_sections": []
    },
    "kernelspec": {
      "name": "python37964bit89c2ba517f1145c3a7e877d374e2d9d0",
      "display_name": "Python 3.7.9 64-bit"
    }
  },
  "cells": [
    {
      "cell_type": "markdown",
      "metadata": {
        "id": "FMqboNwO4rVs"
      },
      "source": [
        "# **Курс \"Програмування на мові Python\"**\n",
        "\n",
        "##### Викладачі:\n",
        "##### Борисенко Павло Борисович\n",
        "##### Щьоголєв Максим Олегович\n"
      ]
    },
    {
      "cell_type": "markdown",
      "metadata": {
        "id": "A2T6MigL5Z06"
      },
      "source": [
        "## **Практичне зайняття №9**\n",
        "\n",
        "### Тема: \"Лямбда-функції. Функції вищих порядків\""
      ]
    },
    {
      "cell_type": "markdown",
      "metadata": {
        "id": "cfCdgK2zXm7e"
      },
      "source": [
        "### **Завдання 1 (1 бал)**\n",
        "\n",
        "Продавець роздрібного товару влаштовує розпродаж. Для всіх товарів знижка однакова - 60%. Щоб вивісити нові цінники, продавець хоче скласти таблицю, в якій для кожного товару буде підрахована його нова вартість та сума знижки.\n",
        "\n",
        "Написати програму, яка буде генерувати таку таблицю. Вартість одиниць товарів до розпродажу подано у списку products_list. \n",
        "\n",
        "1. Для підрахунку невідомих значень повинні використовуватись вбудовані функції вищих порядків.\n",
        "\n",
        "2. Вартість з урахуванням знижки та суми знижок для кожного товару повинні зберігатись у двох окремих списках. Порядок товарів у нових списках повинен бути такий самий, як і в списку products_list.\n",
        "\n",
        "3. Кожне підраховане числове значення має бути округлене до сотих.\n",
        "\n",
        "4. Дані повинні виводитись у вигляді:\n",
        "\n",
        "**Discount table:**\n",
        "\n",
        "**29.25 11.7 17.55**\n",
        "\n",
        "**48.99 19.6 29.39**\n",
        "\n",
        "**...**\n",
        "\n",
        "\n",
        "products_list = [[29.25, 48.99, 99.98, 124.65, 214.30, 543.90, 799.85]]\n"
      ]
    },
    {
      "cell_type": "code",
      "metadata": {
        "id": "ifNX2M7LXm7f"
      },
      "source": [
        "\n",
        "products_list = [29.25, 48.99, 99.98, 124.65, 214.30, 543.90, 799.85,'']\n",
        "\n",
        "try:\n",
        "    price_with_discount = list(map(lambda x:round(x*0.4,2),products_list))\n",
        "    discounts_for_all_products = list(map(lambda x:round(x*0.6,2),products_list))\n",
        "    length=len(products_list)\n",
        "    print('Discount table:')\n",
        "    for i in range(length):\n",
        "        print(products_list[i], price_with_discount[i], discounts_for_all_products[i])\n",
        "except:\n",
        "    print('Invalid changing in product_list.')"
      ],
      "execution_count": 14,
      "outputs": [
        {
          "output_type": "stream",
          "name": "stdout",
          "text": [
            "Invalid changing in product_list\n"
          ]
        }
      ]
    },
    {
      "source": [
        "### **Завдання 2 (2 бали)**\n",
        "\n",
        "Зазвичай рік має 365 днів. Однак у високосні роки додається ще один день - 29 лютого. Правила визначення високосного року такі:\n",
        "\n",
        "- Будь-який рік, що ділиться на 400 - високосний.\n",
        "\n",
        "- З тих років, що залишились, будь-який рік, що ділиться на 100 - **не** високосний.\n",
        "\n",
        "- З тих років, що залишились, будь-який рік, що ділиться на 4 - високосний.\n",
        "\n",
        "- Усі інші роки, що залишились - **не** високосні.\n",
        "\n",
        "1) Створіть функцію, в якій за допомогою вбудованих функцій вищих порядків будуть визначатися високосні роки серед перелічених років у списку years. Створена функція має повертати список високосних років.\n",
        "\n",
        "2) Створіть функцію вищих порядків, яка прийматиме на вхід попередню функцію та визначатиме кількість днів у місяці. Також функція повинна приймати на вхід ще 2 параметри: ціле число від 1 до 12 (місяць) та рік, як ціле чотирицифрове число. Ці значення корисувач має вводити з клавіатури. Перевірку введених даних слід виконувати поза межами функцій."
      ],
      "cell_type": "markdown",
      "metadata": {}
    },
    {
      "cell_type": "code",
      "execution_count": 51,
      "metadata": {},
      "outputs": [
        {
          "output_type": "stream",
          "name": "stdout",
          "text": [
            "Програма визначення кількості днів у заданому місяці заданого року.\n",
            "Рік повинен бути цілим чотирьохзначним числом.\n",
            "Значення року занадто велике.\n",
            "Місяць повинен бути цілим числом від 1 до 12.\n",
            "Значення місяця недопустиме.\n",
            "In 02.1200 was 29 days.\n",
            "===============\n",
            "In 02.2000 was 29 days.\n",
            "===============\n",
            "In 11.2010 was 30 days.\n",
            "===============\n",
            "Bye.\n"
          ]
        }
      ],
      "source": [
        "import numpy as np\n",
        "from functools import reduce\n",
        "\n",
        "years = np.arange(1920, 2020+1, 1)\n",
        "month=[31,28,31,30,31,30,31,31,30,31,30,31,30,31]\n",
        "\n",
        "def intercalary(years):\n",
        "    #too long way\n",
        "    '''\n",
        "    filter_400 = list(filter(lambda x: x%400==0,years))\n",
        "    years = filter(lambda x: x%400!=0,years)\n",
        "    years = filter(lambda x: x%100!=0,years)\n",
        "    filter_4 = list(filter(lambda x: x%4==0,years))\n",
        "    result_400 = reduce(lambda x,y:str(x)+' '+str(y),filter_400)\n",
        "    result_4 = reduce(lambda x,y:str(x)+' '+str(y),filter_4)\n",
        "    result = str(result_4) + ' ' + str(result_400)\n",
        "    return list(map(int,(str(result_4) + ' ' + str(result_400)).split()))\n",
        "    '''\n",
        "    #more simple way\n",
        "    return list(filter(lambda x: x%4 == 0, years))\n",
        "\n",
        "def how_days_in_month(number_of_month,year,intercalary,month=month):\n",
        "    month_str=str(number_of_month)\n",
        "    if len(month_str)==1:\n",
        "        month_str='0'+month_str\n",
        "    if number_of_month == 2 and (year in intercalary(years) or year%4==0): \n",
        "        #Було б безглуздо створювати і використовувати функцію intercalary, якби цілью була програма, а не навчання. \n",
        "        return f'In {month_str}.{year} was 29 days.'\n",
        "    else:\n",
        "        return f'In {month_str}.{year} was {month[number_of_month-1]} days.'\n",
        "\n",
        "\n",
        "def normal_input(year_or_month):\n",
        "    if 'year' in year_or_month:\n",
        "        try:\n",
        "            year = int(input('Введіть рік: '))\n",
        "            if len(str(year)) > 4:\n",
        "                print('Значення року занадто велике.')\n",
        "                return normal_input(year_or_month)\n",
        "            else:\n",
        "                return year\n",
        "        except:\n",
        "            print('Рік повинен бути цілим чотирьохзначним числом.')\n",
        "            return normal_input(year_or_month)\n",
        "    elif 'month' in year_or_month:\n",
        "        try:\n",
        "            month = int(input('Введіть місяць: '))\n",
        "            if month < 1 or month > 12:\n",
        "                print('Значення місяця недопустиме.')\n",
        "                return normal_input(year_or_month)\n",
        "            else:\n",
        "                return month\n",
        "        except:\n",
        "            print('Місяць повинен бути цілим числом від 1 до 12.')\n",
        "            return normal_input(year_or_month)\n",
        "\n",
        "print('Програма визначення кількості днів у заданому місяці заданого року.')\n",
        "situation=input('Введіть end якщо хочете продовжити, інакше будь-що: ')\n",
        "while 'end' not in situation:\n",
        "    Year=normal_input(year_or_month='year')\n",
        "    Month=normal_input(year_or_month='month')\n",
        "    print(how_days_in_month(Month,Year,intercalary))\n",
        "    print('===============')\n",
        "    situation=input('Введіть end якщо хочете продовжити, інакше будь-що: ')\n",
        "print('Bye.')"
      ]
    },
    {
      "cell_type": "code",
      "execution_count": null,
      "metadata": {},
      "outputs": [],
      "source": []
    }
  ]
}