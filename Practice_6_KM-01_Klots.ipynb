{
  "nbformat": 4,
  "nbformat_minor": 0,
  "metadata": {
    "colab": {
      "name": "Practice_6.ipynb",
      "provenance": [],
      "collapsed_sections": [
        "LyWSBl0DOxJ8",
        "5qzvb1n_va3D",
        "fRXqCrBOmwAX"
      ]
    },
    "kernelspec": {
      "name": "Python 3.7.9 64-bit",
      "display_name": "Python 3.7.9 64-bit",
      "metadata": {
        "interpreter": {
          "hash": "272bee38ea1283f2da5955a65de1919df3fbc902800f4166f62fb85d2841d9af"
        }
      }
    }
  },
  "cells": [
    {
      "cell_type": "markdown",
      "metadata": {
        "id": "FMqboNwO4rVs"
      },
      "source": [
        "# **Курс \"Програмування на мові Python\"**\n",
        "\n",
        "##### Викладачі:\n",
        "##### Борисенко Павло Борисович\n",
        "##### Щьоголєв Максим Олегович\n"
      ]
    },
    {
      "cell_type": "markdown",
      "metadata": {
        "id": "A2T6MigL5Z06"
      },
      "source": [
        "## **Практичне зайняття №6**\n",
        "\n",
        "### Тема: \"Робота з рядками. Глибокі копії об'єктів.\""
      ]
    },
    {
      "source": [
        "### **Завдання 1 (2,5 бали)**\n",
        "\n",
        "Модель tf-pose-estimation (https://github.com/ildoonet/tf-pose-estimation) призначена для розпізнавання 18 ключових точок на тілі людини. Кожна точка розпізнається з певною достовірністю, що вимірюється у відсотках. Модель виводить результати у вигляді рядка:\n",
        "\n",
        "```\n",
        "[BodyPart:0-(0.55, 0.17) score=0.81 BodyPart:1-(0.49, 0.27) score=0.85 BodyPart:2-(0.41, 0.26) score=0.67 \n",
        "BodyPart:3-(0.33, 0.37) score=0.72 BodyPart:4-(0.36, 0.48) score=0.78 BodyPart:5-(0.58, 0.27) score=0.81 \n",
        "BodyPart:6-(0.65, 0.38) score=0.88 BodyPart:7-(0.62, 0.48) score=0.86 BodyPart:8-(0.43, 0.48) score=0.60 \n",
        "BodyPart:9-(0.43, 0.66) score=0.67 BodyPart:10-(0.53, 0.79) score=0.56 BodyPart:11-(0.53, 0.48) score=0.56 \n",
        "BodyPart:12-(0.59, 0.66) score=0.75 BodyPart:13-(0.49, 0.80) score=0.50 BodyPart:14-(0.54, 0.15) score=0.73 \n",
        "BodyPart:15-(0.56, 0.15) score=0.85 BodyPart:16-(0.48, 0.16) score=0.81 BodyPart:17-(0.83, 0.18) score=0.79]\n",
        "```\n",
        "\n",
        "Написати програму, яка створюватиме два списки, points та scores. В першому мають послідовно зберігатись координати точок, в другому - їхні достовірності (scores). Для поданого рядка списки матимуть вигляд:\n",
        "\n",
        "```\n",
        "points = [0.55,0.17,0.49,0.27,0.41,0.26,0.33,0.37,0.36,0.48,0.58,0.27,0.65,0.38,0.62,0.48,0.43,0.48,\n",
        "0.43,0.66,0.53,0.79,0.53,0.48,0.59,0.66,0.49,0.80,0.54,0.15,0.56,0.15,0.48,0.16,0.83,0.18]\n",
        "scores = [0.81,0.85,0.67,0.72,0.78,0.81,0.88,0.86,0.60,0.67,0.56,0.56,0.75,0.50,0.73,0.85,0.81,0.79]\n",
        "```\n",
        "\n",
        "1. Кількість розпізнаних точок може коливатись у межах від 0 до 18.\n",
        "\n",
        "2. Під час оцінювання коду враховуватиметься його оптимальність. Що коротшою буде програма, то краще.\n",
        "\n",
        "3. У змінній pose_estimation зберігається тестовий рядок. Для перевірки роботи можуть використовуватись інші рядки такого ж формату."
      ],
      "cell_type": "markdown",
      "metadata": {}
    },
    {
      "cell_type": "code",
      "execution_count": 27,
      "metadata": {
        "tags": []
      },
      "outputs": [
        {
          "output_type": "stream",
          "name": "stdout",
          "text": [
            "Format of list is invalid, try change your list =)\n"
          ]
        }
      ],
      "source": [
        "pose_estimation = \"[BodyPart:0-(0.5___5, 0.17) score=0.81 BodyPart:1-(0.49, 0.27) score=0.85 BodyPart:2-(0.41, 0.26) score=0.67 BodyPart:3-(0.33, 0.37) score=0.72 BodyPart:4-(0.36, 0.48) score=0.78 BodyPart:5-(0.58, 0.27) score=0.81 BodyPart:6-(0.65, 0.38) score=0.88 BodyPart:7-(0.62, 0.48) score=0.86 BodyPart:8-(0.43, 0.48) score=0.60 BodyPart:9-(0.43, 0.66) score=0.67 BodyPart:10-(0.53, 0.79) score=0.56 BodyPart:11-(0.53, 0.48) score=0.56 BodyPart:12-(0.59, 0.66) score=0.75 BodyPart:13-(0.49, 0.80) score=0.50 BodyPart:14-(0.54, 0.15) score=0.73 BodyPart:15-(0.56, 0.15) score=0.85 BodyPart:16-(0.48, 0.16) score=0.81 BodyPart:17-(0.83, 0.18) score=0.79]\"\n",
        "points=[]\n",
        "scores=[]\n",
        "i=0\n",
        "while pose_estimation.find('(',i)!=-1: #поки ми щось знаходимо \n",
        "\n",
        "    ind_start=pose_estimation.find('(',i)+1 #індекс початку для першої координати\n",
        "    ind_end=pose_estimation.find(',',ind_start) #індекс кінця для першої координати\n",
        "    try:\n",
        "        points.append(float(pose_estimation[ind_start:ind_end]))#додаємо першу координату з типом флоат, якою б довгою вона не була\n",
        "    except:\n",
        "        i=\"error\"\n",
        "        print(\"Format of list is invalid, try change your list =)\")\n",
        "        break\n",
        "\n",
        "\n",
        "    ind_start=ind_end+2 #індекс початку для другої координати\n",
        "    ind_end=pose_estimation.find(')',ind_start) #індекс кінця для другої координати\n",
        "    try:\n",
        "        points.append(float(pose_estimation[ind_start:ind_end])) #додаємо другу координату з типом флоат, якою б довгою вона не була\n",
        "    except:\n",
        "        i=\"error\"\n",
        "        print(\"Format of list is invalid, try change your list =)\")\n",
        "        break\n",
        "\n",
        "    ind_start=pose_estimation.find('=',ind_start)+1 #визначаємо початковий індекс \n",
        "    ind_end=pose_estimation.find(\" \",ind_start) #кінцевий\n",
        "    try:\n",
        "        scores.append(float(pose_estimation[ind_start:ind_end])) #додаємо значення з типом флоат в scores\n",
        "    except:\n",
        "        i=\"error\"\n",
        "        print(\"Format of list is invalid, try change your list =)\")\n",
        "        break\n",
        "    \n",
        "    i=ind_end #присвоюємо і крайнє значення індексу\n",
        "if i!='error':\n",
        "    print(f'points = {points}')\n",
        "    print(f'scores = {scores}')\n",
        "\n",
        "# Я намагався оптимізувати код, але в піорітетності стояла якість роботи програми.\n",
        " #   Думаю, ви оціните і не будете знижувати бали за +19 рядків коду.\n"
      ]
    },
    {
      "source": [
        "### **Завдання 2 (0,5 бал)**\n",
        "\n",
        "Створіть рядок формату, що дозволить отримати дані зі списку format_list та вивести рядок:\n",
        "\n",
        "```\n",
        "The initial lot price of $358.4 at the Liverpool auction exceeded the expected price by 21%, \n",
        "but the lot with number 0134 was nevertheless sold for $845.\n",
        "```\n",
        "\n",
        "У рядку формату мають бути 7 заповнювачів. Список format_list в процесі роботи змінювани не можна."
      ],
      "cell_type": "markdown",
      "metadata": {}
    },
    {
      "cell_type": "code",
      "execution_count": 38,
      "metadata": {},
      "outputs": [
        {
          "output_type": "stream",
          "name": "stdout",
          "text": [
            "The initial lot price of $358.4 the Liverpool auction exceeded the expected price by 21.0%,\nbut the lot with number 0134 was nevertheless sold for $845.\n"
          ]
        }
      ],
      "source": [
        "format_list = ['Liverpool', 845.15, 21, 134, 358.45, 'price']\n",
        "\n",
        "numbers=(4-len(str(format_list[3])))*'0'+str(format_list[3])\n",
        "\n",
        "full_list = f'The initial lot {format_list[5]} of ${\"%.1f\"%format_list[4]} the {format_list[0]} auction exceeded the expected {format_list[5]} by {\"%.1f\"%format_list[2]}%,\\nbut the lot with number {numbers} was nevertheless sold for ${int(format_list[1])}.'\n",
        "\n",
        "print(full_list)"
      ]
    }
  ]
}