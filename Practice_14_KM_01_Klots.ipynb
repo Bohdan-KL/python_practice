{
  "nbformat": 4,
  "nbformat_minor": 0,
  "metadata": {
    "colab": {
      "name": "Practice_14_KM_01.ipynb",
      "provenance": [],
      "collapsed_sections": []
    },
    "kernelspec": {
      "name": "python3",
      "display_name": "Python 3.7.9 64-bit",
      "metadata": {
        "interpreter": {
          "hash": "272bee38ea1283f2da5955a65de1919df3fbc902800f4166f62fb85d2841d9af"
        }
      }
    }
  },
  "cells": [
    {
      "cell_type": "markdown",
      "metadata": {
        "id": "FMqboNwO4rVs"
      },
      "source": [
        "# **Курс \"Програмування на мові Python\"**\n",
        "\n",
        "##### Викладачі:\n",
        "##### Борисенко Павло Борисович\n",
        "##### Щьоголєв Максим Олегович\n"
      ]
    },
    {
      "cell_type": "markdown",
      "metadata": {
        "id": "A2T6MigL5Z06"
      },
      "source": [
        "## **Практичне зайняття №14**\n",
        "\n",
        "### Тема: \"Робота з файлами\""
      ]
    },
    {
      "cell_type": "markdown",
      "metadata": {
        "id": "cfCdgK2zXm7e"
      },
      "source": [
        "### **Завдання 1 (1,5 бали)**\n",
        "\n",
        "У 1939 році друком вийшов роман американського письменика Ернеста Вінсента Райта \"Ґетсбі\". Особливу увагу публіки він здобув через те, що письменник жодного разу не використав у романі літеру \"e\" (роман складається з більше ніж 50,000 слів), яка є найбільш вживаною літерою в англійській мові.\n",
        "\n",
        "Порахуйте кількість входжень кожної літери у текст роману. Виведіть список літер англійського алфавіту, а також інформацію про те, скільки відсотків від усіх літер тексту складає кожна літера алфавіту.\n",
        "\n",
        "Зауваження:\n",
        "\n",
        "1. Програма має ігнорувати будь-які символи, окрім літер.\n",
        "\n",
        "2. Переведіть усі літери у верхній або у нижній регістр.\n",
        "\n",
        "3. Під час виведення відсортуйте літери у порядку зменшення їхнього відсотка. Літера \"e\" має стояти на останньому місці у цьому списку.\n",
        "\n",
        "4. Виведіть перші 5 та останні 5 літер відсортованого списку разом з відсотковими значеннями, що їм відповідають."
      ]
    },
    {
      "cell_type": "code",
      "metadata": {
        "tags": [],
        "id": "u4-fHJJ6U462"
      },
      "source": [
        "from re import sub, findall\n",
        "from string import ascii_lowercase\n",
        "\n",
        "#reading\n",
        "with open('files\\\\gadsby.txt', 'r',encoding='utf8') as file:\n",
        "    string = file.read()\n",
        "#end\n",
        "\n",
        "\n",
        "#clearning\n",
        "string = sub('\\n\\n\\n\\n+[I, V, X, L, C, D, M]+\\n', '', string[string.find('\\nI\\n')+5:])\n",
        "string = string.lower()\n",
        "string = findall(r'\\w', string)\n",
        "letters = list('qwertyuiopasdfghjklzxcvbnm') \n",
        "string = list(filter(lambda x: x in letters, string))\n",
        "#end\n",
        "\n",
        "\n",
        "#analysis\n",
        "statistics = {}\n",
        "count_all_letters = len(string)\n",
        "for i in letters:\n",
        "    statistics[i] = round(100*string.count(i)/count_all_letters, 3)\n",
        "statistics = sorted(list(statistics.items()), key = lambda x: x[1], reverse = True)\n",
        "#end\n",
        "\n",
        "\n",
        "#outputing\n",
        "print(', '.join(list(ascii_lowercase)))\n",
        "print()\n",
        "print('The most often')\n",
        "for i in range(5):\n",
        "    print(f'{statistics[i][0]} = {statistics[i][1]}%')\n",
        "print('\\nThe least often')\n",
        "for i in range(-5, 0):\n",
        "    print(f'{statistics[i][0]} = {statistics[i][1]}%')\n",
        "#end\n"
      ],
      "execution_count": 110,
      "outputs": [
        {
          "output_type": "stream",
          "name": "stdout",
          "text": [
            "a, b, c, d, e, f, g, h, i, j, k, l, m, n, o, p, q, r, s, t, u, v, w, x, y, z\n\nThe most often\na = 10.96%\no = 10.427%\ni = 8.803%\nn = 8.604%\nt = 8.5%\n\nThe least often\nj = 0.23%\nz = 0.108%\nq = 0.051%\nx = 0.049%\ne = 0.002%\n"
          ]
        }
      ]
    },
    {
      "cell_type": "markdown",
      "metadata": {
        "id": "A34oz70eU463"
      },
      "source": [
        "### **Завдання 2 (1,5 бали)**\n",
        "\n",
        "Створіть CSV-файл, що буде містити від 5 до 10 пісень (творів) вашого улюбленого музиканта. Назва файлу - ім'я музиканта (композитора) або назва гурту.\n",
        "\n",
        "1. Обов'язково додайте до файлу рядок з назвами двох колонок (Song, Year) або (Composition, Year).\n",
        "\n",
        "2. Після запису файлу роздрукуйте назву файлу та усі наявні у файлі рядки (включно із заголовками).\n",
        "\n",
        "3. Для запису та зчитування рядків скористайтесь функціями csv.DictWriter() та csv.DictReader()."
      ]
    },
    {
      "cell_type": "code",
      "metadata": {
        "id": "MEJIrG1GU463"
      },
      "source": [
        "import csv\n",
        "with open('Max_Korzh.csv', 'w', newline='') as file:\n",
        "    names = ['Song', 'Year']\n",
        "    writer = csv.DictWriter(file, fieldnames=names)\n",
        "    writer.writeheader()\n",
        "    writer.writerow({'Song': 'Горы по колено',\n",
        "                     'Year': '2017'})\n",
        "    writer.writerow({'Song': 'Не выдумывай',\n",
        "                     'Year': '2014'})\n",
        "    writer.writerow({'Song': '2 типа людей',\n",
        "                     'Year': '2019'})\n",
        "    writer.writerow({'Song': 'Тепло',\n",
        "                     'Year': '2020'})\n",
        "    writer.writerow({'Song': 'Пьяный дождь',\n",
        "                     'Year': '2017'})"
      ],
      "execution_count": 107,
      "outputs": []
    },
    {
      "cell_type": "markdown",
      "metadata": {
        "id": "Jb-eSBsWU464"
      },
      "source": [
        "### **Завдання 3 (бонусне, 1 бал)**\n",
        "\n",
        "COCO Dataset - набір фотографій та анотацій до них. Його дуже часто використовують для тренування класифікаторів, призначених для розпізнавання об'єктів та визначення ключових точок на зображеннях.\n",
        "\n",
        "Завантажте файли з описом фотографій COCO Dataset за посиланням: http://images.cocodataset.org/annotations/image_info_test2017.zip\n",
        "\n",
        "1. Відкрийте файл image_info_test-dev2017.json. Інформація про фотографії з бази COCO міститься у полі \"images\". Інформація про категорії, на які розділені всі фотографії, міститься у полі \"categories\".\n",
        "\n",
        "2. Визначте кількість фотографій, інформацію про які можна знайти у цьому файлі (кількість елементів, що відповідають ключу \"images\").\n",
        "\n",
        "3. Визначте кількість наявних категорій (кількість елементів, що відповідають ключу \"categories\").\n",
        "\n",
        "4. Виведіть посилання на фотографію 000000000001.jpg (\"coco_url\"), висоту цієї фотографії (\"height\"), ширину (\"width\") та її ідентифікатор (\"id\").\n",
        "\n",
        "5. Опис структури JSON-файлу для набору фотографій COCO можна знайти за посиланням: https://cocodataset.org/#format-data\n",
        "\n",
        "6. Щоб перевірити правильність результатів, у VS Code встановіть розширення JSON та відкрийте файл image_info_test-dev2017.json. Розширення автоматично визначає кількість елементів у кожному полі."
      ]
    },
    {
      "cell_type": "code",
      "metadata": {
        "id": "74C6WKB_U464",
        "tags": []
      },
      "source": [
        "import json\n",
        "\n",
        "#reading\n",
        "with open('annotations\\\\image_info_test-dev2017.json') as file:\n",
        "    dataset=json.load(file)\n",
        "#end\n",
        "\n",
        "\n",
        "#finding\n",
        "for i in range(len(dataset[\"images\"])):\n",
        "    if dataset[\"images\"][i][\"file_name\"]==\"000000000001.jpg\":\n",
        "        url = dataset[\"images\"][i][\"coco_url\"]\n",
        "        height = dataset[\"images\"][i][\"height\"]\n",
        "        width = dataset[\"images\"][i][\"width\"]\n",
        "        id_ = dataset[\"images\"][i][\"id\"]\n",
        "        break\n",
        "#end\n",
        "\n",
        "\n",
        "#outputing\n",
        "print(f'Here is {len(dataset[\"images\"])} images and {len(dataset[\"categories\"])} categories.\\n')\n",
        "print(f'Url for 000000000001.jpg is {url}\\nHeight is {height}\\nWidth is {width}\\nId is {id_}')\n",
        "#end\n"
      ],
      "execution_count": 38,
      "outputs": [
        {
          "output_type": "stream",
          "name": "stdout",
          "text": [
            "Here is 20288 images and 80 categories.\n\nUrl for 000000000001.jpg is http://images.cocodataset.org/test2017/000000000001.jpg\nHeight is 480\nWidth is 640\nId is 1\n"
          ]
        }
      ]
    },
    {
      "cell_type": "code",
      "execution_count": null,
      "metadata": {},
      "outputs": [],
      "source": []
    }
  ]
}